{
  "nbformat": 4,
  "nbformat_minor": 0,
  "metadata": {
    "colab": {
      "provenance": []
    },
    "kernelspec": {
      "name": "python3",
      "display_name": "Python 3"
    },
    "language_info": {
      "name": "python"
    }
  },
  "cells": [
    {
      "cell_type": "code",
      "execution_count": null,
      "metadata": {
        "colab": {
          "base_uri": "https://localhost:8080/"
        },
        "id": "-4pt__ljf5gv",
        "outputId": "99bbfe1f-9e8b-451c-a7c5-9939b3e74b6d"
      },
      "outputs": [
        {
          "output_type": "stream",
          "name": "stdout",
          "text": [
            "Drive already mounted at /content/drive; to attempt to forcibly remount, call drive.mount(\"/content/drive\", force_remount=True).\n"
          ]
        }
      ],
      "source": [
        "from google.colab import drive\n",
        "drive.mount('/content/drive')"
      ]
    },
    {
      "cell_type": "code",
      "source": [
        "pip install shap"
      ],
      "metadata": {
        "colab": {
          "base_uri": "https://localhost:8080/"
        },
        "id": "DYTWx1j7GO-h",
        "outputId": "1cc63830-a82e-48b5-9ccc-11571f885b59"
      },
      "execution_count": null,
      "outputs": [
        {
          "output_type": "stream",
          "name": "stdout",
          "text": [
            "Collecting shap\n",
            "  Downloading shap-0.46.0-cp310-cp310-manylinux_2_12_x86_64.manylinux2010_x86_64.manylinux_2_17_x86_64.manylinux2014_x86_64.whl (540 kB)\n",
            "\u001b[2K     \u001b[90m━━━━━━━━━━━━━━━━━━━━━━━━━━━━━━━━━━━━━━━━\u001b[0m \u001b[32m540.1/540.1 kB\u001b[0m \u001b[31m2.6 MB/s\u001b[0m eta \u001b[36m0:00:00\u001b[0m\n",
            "\u001b[?25hRequirement already satisfied: numpy in /usr/local/lib/python3.10/dist-packages (from shap) (1.25.2)\n",
            "Requirement already satisfied: scipy in /usr/local/lib/python3.10/dist-packages (from shap) (1.11.4)\n",
            "Requirement already satisfied: scikit-learn in /usr/local/lib/python3.10/dist-packages (from shap) (1.2.2)\n",
            "Requirement already satisfied: pandas in /usr/local/lib/python3.10/dist-packages (from shap) (2.0.3)\n",
            "Requirement already satisfied: tqdm>=4.27.0 in /usr/local/lib/python3.10/dist-packages (from shap) (4.66.4)\n",
            "Requirement already satisfied: packaging>20.9 in /usr/local/lib/python3.10/dist-packages (from shap) (24.1)\n",
            "Collecting slicer==0.0.8 (from shap)\n",
            "  Downloading slicer-0.0.8-py3-none-any.whl (15 kB)\n",
            "Requirement already satisfied: numba in /usr/local/lib/python3.10/dist-packages (from shap) (0.58.1)\n",
            "Requirement already satisfied: cloudpickle in /usr/local/lib/python3.10/dist-packages (from shap) (2.2.1)\n",
            "Requirement already satisfied: llvmlite<0.42,>=0.41.0dev0 in /usr/local/lib/python3.10/dist-packages (from numba->shap) (0.41.1)\n",
            "Requirement already satisfied: python-dateutil>=2.8.2 in /usr/local/lib/python3.10/dist-packages (from pandas->shap) (2.8.2)\n",
            "Requirement already satisfied: pytz>=2020.1 in /usr/local/lib/python3.10/dist-packages (from pandas->shap) (2023.4)\n",
            "Requirement already satisfied: tzdata>=2022.1 in /usr/local/lib/python3.10/dist-packages (from pandas->shap) (2024.1)\n",
            "Requirement already satisfied: joblib>=1.1.1 in /usr/local/lib/python3.10/dist-packages (from scikit-learn->shap) (1.4.2)\n",
            "Requirement already satisfied: threadpoolctl>=2.0.0 in /usr/local/lib/python3.10/dist-packages (from scikit-learn->shap) (3.5.0)\n",
            "Requirement already satisfied: six>=1.5 in /usr/local/lib/python3.10/dist-packages (from python-dateutil>=2.8.2->pandas->shap) (1.16.0)\n",
            "Installing collected packages: slicer, shap\n",
            "Successfully installed shap-0.46.0 slicer-0.0.8\n"
          ]
        }
      ]
    },
    {
      "cell_type": "code",
      "source": [
        "import numpy as np\n",
        "import pandas as pd\n",
        "import matplotlib.pyplot as plt\n",
        "%matplotlib inline\n",
        "import seaborn as sns\n",
        "from sklearn.cluster import KMeans\n",
        "from sklearn.preprocessing import LabelEncoder, StandardScaler\n",
        "from sklearn.decomposition import PCA\n",
        "\n",
        "from sklearn.model_selection import train_test_split\n",
        "\n",
        "from imblearn.over_sampling import SMOTE\n",
        "from sklearn.metrics import accuracy_score\n",
        "from sklearn.ensemble import RandomForestClassifier\n",
        "from sklearn.metrics import confusion_matrix, ConfusionMatrixDisplay\n",
        "from sklearn.metrics import roc_curve, auc\n",
        "import shap\n"
      ],
      "metadata": {
        "id": "f6BJ47-Uk1VT"
      },
      "execution_count": null,
      "outputs": []
    },
    {
      "cell_type": "code",
      "source": [
        "df = pd.read_csv('/content/drive/MyDrive/ML PROJECTS/2. Bank Loan Classification/loan.csv')\n",
        "df.head()"
      ],
      "metadata": {
        "colab": {
          "base_uri": "https://localhost:8080/",
          "height": 377
        },
        "id": "4juUZxClk-Tm",
        "outputId": "d5d9b2ef-78a0-4e4a-96dc-7ef7397395ba"
      },
      "execution_count": null,
      "outputs": [
        {
          "output_type": "stream",
          "name": "stderr",
          "text": [
            "<ipython-input-5-c04b44df6351>:1: DtypeWarning: Columns (47) have mixed types. Specify dtype option on import or set low_memory=False.\n",
            "  df = pd.read_csv('/content/drive/MyDrive/ML PROJECTS/2. Bank Loan Classification/loan.csv')\n"
          ]
        },
        {
          "output_type": "execute_result",
          "data": {
            "text/plain": [
              "        id  member_id  loan_amnt  funded_amnt  funded_amnt_inv        term  \\\n",
              "0  1077501    1296599       5000         5000           4975.0   36 months   \n",
              "1  1077430    1314167       2500         2500           2500.0   60 months   \n",
              "2  1077175    1313524       2400         2400           2400.0   36 months   \n",
              "3  1076863    1277178      10000        10000          10000.0   36 months   \n",
              "4  1075358    1311748       3000         3000           3000.0   60 months   \n",
              "\n",
              "  int_rate  installment grade sub_grade  ... num_tl_90g_dpd_24m  \\\n",
              "0   10.65%       162.87     B        B2  ...                NaN   \n",
              "1   15.27%        59.83     C        C4  ...                NaN   \n",
              "2   15.96%        84.33     C        C5  ...                NaN   \n",
              "3   13.49%       339.31     C        C1  ...                NaN   \n",
              "4   12.69%        67.79     B        B5  ...                NaN   \n",
              "\n",
              "  num_tl_op_past_12m pct_tl_nvr_dlq  percent_bc_gt_75 pub_rec_bankruptcies  \\\n",
              "0                NaN            NaN               NaN                  0.0   \n",
              "1                NaN            NaN               NaN                  0.0   \n",
              "2                NaN            NaN               NaN                  0.0   \n",
              "3                NaN            NaN               NaN                  0.0   \n",
              "4                NaN            NaN               NaN                  0.0   \n",
              "\n",
              "  tax_liens tot_hi_cred_lim total_bal_ex_mort total_bc_limit  \\\n",
              "0       0.0             NaN               NaN            NaN   \n",
              "1       0.0             NaN               NaN            NaN   \n",
              "2       0.0             NaN               NaN            NaN   \n",
              "3       0.0             NaN               NaN            NaN   \n",
              "4       0.0             NaN               NaN            NaN   \n",
              "\n",
              "  total_il_high_credit_limit  \n",
              "0                        NaN  \n",
              "1                        NaN  \n",
              "2                        NaN  \n",
              "3                        NaN  \n",
              "4                        NaN  \n",
              "\n",
              "[5 rows x 111 columns]"
            ],
            "text/html": [
              "\n",
              "  <div id=\"df-6bc85ff6-da13-440a-8094-a9002237f717\" class=\"colab-df-container\">\n",
              "    <div>\n",
              "<style scoped>\n",
              "    .dataframe tbody tr th:only-of-type {\n",
              "        vertical-align: middle;\n",
              "    }\n",
              "\n",
              "    .dataframe tbody tr th {\n",
              "        vertical-align: top;\n",
              "    }\n",
              "\n",
              "    .dataframe thead th {\n",
              "        text-align: right;\n",
              "    }\n",
              "</style>\n",
              "<table border=\"1\" class=\"dataframe\">\n",
              "  <thead>\n",
              "    <tr style=\"text-align: right;\">\n",
              "      <th></th>\n",
              "      <th>id</th>\n",
              "      <th>member_id</th>\n",
              "      <th>loan_amnt</th>\n",
              "      <th>funded_amnt</th>\n",
              "      <th>funded_amnt_inv</th>\n",
              "      <th>term</th>\n",
              "      <th>int_rate</th>\n",
              "      <th>installment</th>\n",
              "      <th>grade</th>\n",
              "      <th>sub_grade</th>\n",
              "      <th>...</th>\n",
              "      <th>num_tl_90g_dpd_24m</th>\n",
              "      <th>num_tl_op_past_12m</th>\n",
              "      <th>pct_tl_nvr_dlq</th>\n",
              "      <th>percent_bc_gt_75</th>\n",
              "      <th>pub_rec_bankruptcies</th>\n",
              "      <th>tax_liens</th>\n",
              "      <th>tot_hi_cred_lim</th>\n",
              "      <th>total_bal_ex_mort</th>\n",
              "      <th>total_bc_limit</th>\n",
              "      <th>total_il_high_credit_limit</th>\n",
              "    </tr>\n",
              "  </thead>\n",
              "  <tbody>\n",
              "    <tr>\n",
              "      <th>0</th>\n",
              "      <td>1077501</td>\n",
              "      <td>1296599</td>\n",
              "      <td>5000</td>\n",
              "      <td>5000</td>\n",
              "      <td>4975.0</td>\n",
              "      <td>36 months</td>\n",
              "      <td>10.65%</td>\n",
              "      <td>162.87</td>\n",
              "      <td>B</td>\n",
              "      <td>B2</td>\n",
              "      <td>...</td>\n",
              "      <td>NaN</td>\n",
              "      <td>NaN</td>\n",
              "      <td>NaN</td>\n",
              "      <td>NaN</td>\n",
              "      <td>0.0</td>\n",
              "      <td>0.0</td>\n",
              "      <td>NaN</td>\n",
              "      <td>NaN</td>\n",
              "      <td>NaN</td>\n",
              "      <td>NaN</td>\n",
              "    </tr>\n",
              "    <tr>\n",
              "      <th>1</th>\n",
              "      <td>1077430</td>\n",
              "      <td>1314167</td>\n",
              "      <td>2500</td>\n",
              "      <td>2500</td>\n",
              "      <td>2500.0</td>\n",
              "      <td>60 months</td>\n",
              "      <td>15.27%</td>\n",
              "      <td>59.83</td>\n",
              "      <td>C</td>\n",
              "      <td>C4</td>\n",
              "      <td>...</td>\n",
              "      <td>NaN</td>\n",
              "      <td>NaN</td>\n",
              "      <td>NaN</td>\n",
              "      <td>NaN</td>\n",
              "      <td>0.0</td>\n",
              "      <td>0.0</td>\n",
              "      <td>NaN</td>\n",
              "      <td>NaN</td>\n",
              "      <td>NaN</td>\n",
              "      <td>NaN</td>\n",
              "    </tr>\n",
              "    <tr>\n",
              "      <th>2</th>\n",
              "      <td>1077175</td>\n",
              "      <td>1313524</td>\n",
              "      <td>2400</td>\n",
              "      <td>2400</td>\n",
              "      <td>2400.0</td>\n",
              "      <td>36 months</td>\n",
              "      <td>15.96%</td>\n",
              "      <td>84.33</td>\n",
              "      <td>C</td>\n",
              "      <td>C5</td>\n",
              "      <td>...</td>\n",
              "      <td>NaN</td>\n",
              "      <td>NaN</td>\n",
              "      <td>NaN</td>\n",
              "      <td>NaN</td>\n",
              "      <td>0.0</td>\n",
              "      <td>0.0</td>\n",
              "      <td>NaN</td>\n",
              "      <td>NaN</td>\n",
              "      <td>NaN</td>\n",
              "      <td>NaN</td>\n",
              "    </tr>\n",
              "    <tr>\n",
              "      <th>3</th>\n",
              "      <td>1076863</td>\n",
              "      <td>1277178</td>\n",
              "      <td>10000</td>\n",
              "      <td>10000</td>\n",
              "      <td>10000.0</td>\n",
              "      <td>36 months</td>\n",
              "      <td>13.49%</td>\n",
              "      <td>339.31</td>\n",
              "      <td>C</td>\n",
              "      <td>C1</td>\n",
              "      <td>...</td>\n",
              "      <td>NaN</td>\n",
              "      <td>NaN</td>\n",
              "      <td>NaN</td>\n",
              "      <td>NaN</td>\n",
              "      <td>0.0</td>\n",
              "      <td>0.0</td>\n",
              "      <td>NaN</td>\n",
              "      <td>NaN</td>\n",
              "      <td>NaN</td>\n",
              "      <td>NaN</td>\n",
              "    </tr>\n",
              "    <tr>\n",
              "      <th>4</th>\n",
              "      <td>1075358</td>\n",
              "      <td>1311748</td>\n",
              "      <td>3000</td>\n",
              "      <td>3000</td>\n",
              "      <td>3000.0</td>\n",
              "      <td>60 months</td>\n",
              "      <td>12.69%</td>\n",
              "      <td>67.79</td>\n",
              "      <td>B</td>\n",
              "      <td>B5</td>\n",
              "      <td>...</td>\n",
              "      <td>NaN</td>\n",
              "      <td>NaN</td>\n",
              "      <td>NaN</td>\n",
              "      <td>NaN</td>\n",
              "      <td>0.0</td>\n",
              "      <td>0.0</td>\n",
              "      <td>NaN</td>\n",
              "      <td>NaN</td>\n",
              "      <td>NaN</td>\n",
              "      <td>NaN</td>\n",
              "    </tr>\n",
              "  </tbody>\n",
              "</table>\n",
              "<p>5 rows × 111 columns</p>\n",
              "</div>\n",
              "    <div class=\"colab-df-buttons\">\n",
              "\n",
              "  <div class=\"colab-df-container\">\n",
              "    <button class=\"colab-df-convert\" onclick=\"convertToInteractive('df-6bc85ff6-da13-440a-8094-a9002237f717')\"\n",
              "            title=\"Convert this dataframe to an interactive table.\"\n",
              "            style=\"display:none;\">\n",
              "\n",
              "  <svg xmlns=\"http://www.w3.org/2000/svg\" height=\"24px\" viewBox=\"0 -960 960 960\">\n",
              "    <path d=\"M120-120v-720h720v720H120Zm60-500h600v-160H180v160Zm220 220h160v-160H400v160Zm0 220h160v-160H400v160ZM180-400h160v-160H180v160Zm440 0h160v-160H620v160ZM180-180h160v-160H180v160Zm440 0h160v-160H620v160Z\"/>\n",
              "  </svg>\n",
              "    </button>\n",
              "\n",
              "  <style>\n",
              "    .colab-df-container {\n",
              "      display:flex;\n",
              "      gap: 12px;\n",
              "    }\n",
              "\n",
              "    .colab-df-convert {\n",
              "      background-color: #E8F0FE;\n",
              "      border: none;\n",
              "      border-radius: 50%;\n",
              "      cursor: pointer;\n",
              "      display: none;\n",
              "      fill: #1967D2;\n",
              "      height: 32px;\n",
              "      padding: 0 0 0 0;\n",
              "      width: 32px;\n",
              "    }\n",
              "\n",
              "    .colab-df-convert:hover {\n",
              "      background-color: #E2EBFA;\n",
              "      box-shadow: 0px 1px 2px rgba(60, 64, 67, 0.3), 0px 1px 3px 1px rgba(60, 64, 67, 0.15);\n",
              "      fill: #174EA6;\n",
              "    }\n",
              "\n",
              "    .colab-df-buttons div {\n",
              "      margin-bottom: 4px;\n",
              "    }\n",
              "\n",
              "    [theme=dark] .colab-df-convert {\n",
              "      background-color: #3B4455;\n",
              "      fill: #D2E3FC;\n",
              "    }\n",
              "\n",
              "    [theme=dark] .colab-df-convert:hover {\n",
              "      background-color: #434B5C;\n",
              "      box-shadow: 0px 1px 3px 1px rgba(0, 0, 0, 0.15);\n",
              "      filter: drop-shadow(0px 1px 2px rgba(0, 0, 0, 0.3));\n",
              "      fill: #FFFFFF;\n",
              "    }\n",
              "  </style>\n",
              "\n",
              "    <script>\n",
              "      const buttonEl =\n",
              "        document.querySelector('#df-6bc85ff6-da13-440a-8094-a9002237f717 button.colab-df-convert');\n",
              "      buttonEl.style.display =\n",
              "        google.colab.kernel.accessAllowed ? 'block' : 'none';\n",
              "\n",
              "      async function convertToInteractive(key) {\n",
              "        const element = document.querySelector('#df-6bc85ff6-da13-440a-8094-a9002237f717');\n",
              "        const dataTable =\n",
              "          await google.colab.kernel.invokeFunction('convertToInteractive',\n",
              "                                                    [key], {});\n",
              "        if (!dataTable) return;\n",
              "\n",
              "        const docLinkHtml = 'Like what you see? Visit the ' +\n",
              "          '<a target=\"_blank\" href=https://colab.research.google.com/notebooks/data_table.ipynb>data table notebook</a>'\n",
              "          + ' to learn more about interactive tables.';\n",
              "        element.innerHTML = '';\n",
              "        dataTable['output_type'] = 'display_data';\n",
              "        await google.colab.output.renderOutput(dataTable, element);\n",
              "        const docLink = document.createElement('div');\n",
              "        docLink.innerHTML = docLinkHtml;\n",
              "        element.appendChild(docLink);\n",
              "      }\n",
              "    </script>\n",
              "  </div>\n",
              "\n",
              "\n",
              "<div id=\"df-5d0855c1-3ffd-43b2-aa88-d6f8a966e9fe\">\n",
              "  <button class=\"colab-df-quickchart\" onclick=\"quickchart('df-5d0855c1-3ffd-43b2-aa88-d6f8a966e9fe')\"\n",
              "            title=\"Suggest charts\"\n",
              "            style=\"display:none;\">\n",
              "\n",
              "<svg xmlns=\"http://www.w3.org/2000/svg\" height=\"24px\"viewBox=\"0 0 24 24\"\n",
              "     width=\"24px\">\n",
              "    <g>\n",
              "        <path d=\"M19 3H5c-1.1 0-2 .9-2 2v14c0 1.1.9 2 2 2h14c1.1 0 2-.9 2-2V5c0-1.1-.9-2-2-2zM9 17H7v-7h2v7zm4 0h-2V7h2v10zm4 0h-2v-4h2v4z\"/>\n",
              "    </g>\n",
              "</svg>\n",
              "  </button>\n",
              "\n",
              "<style>\n",
              "  .colab-df-quickchart {\n",
              "      --bg-color: #E8F0FE;\n",
              "      --fill-color: #1967D2;\n",
              "      --hover-bg-color: #E2EBFA;\n",
              "      --hover-fill-color: #174EA6;\n",
              "      --disabled-fill-color: #AAA;\n",
              "      --disabled-bg-color: #DDD;\n",
              "  }\n",
              "\n",
              "  [theme=dark] .colab-df-quickchart {\n",
              "      --bg-color: #3B4455;\n",
              "      --fill-color: #D2E3FC;\n",
              "      --hover-bg-color: #434B5C;\n",
              "      --hover-fill-color: #FFFFFF;\n",
              "      --disabled-bg-color: #3B4455;\n",
              "      --disabled-fill-color: #666;\n",
              "  }\n",
              "\n",
              "  .colab-df-quickchart {\n",
              "    background-color: var(--bg-color);\n",
              "    border: none;\n",
              "    border-radius: 50%;\n",
              "    cursor: pointer;\n",
              "    display: none;\n",
              "    fill: var(--fill-color);\n",
              "    height: 32px;\n",
              "    padding: 0;\n",
              "    width: 32px;\n",
              "  }\n",
              "\n",
              "  .colab-df-quickchart:hover {\n",
              "    background-color: var(--hover-bg-color);\n",
              "    box-shadow: 0 1px 2px rgba(60, 64, 67, 0.3), 0 1px 3px 1px rgba(60, 64, 67, 0.15);\n",
              "    fill: var(--button-hover-fill-color);\n",
              "  }\n",
              "\n",
              "  .colab-df-quickchart-complete:disabled,\n",
              "  .colab-df-quickchart-complete:disabled:hover {\n",
              "    background-color: var(--disabled-bg-color);\n",
              "    fill: var(--disabled-fill-color);\n",
              "    box-shadow: none;\n",
              "  }\n",
              "\n",
              "  .colab-df-spinner {\n",
              "    border: 2px solid var(--fill-color);\n",
              "    border-color: transparent;\n",
              "    border-bottom-color: var(--fill-color);\n",
              "    animation:\n",
              "      spin 1s steps(1) infinite;\n",
              "  }\n",
              "\n",
              "  @keyframes spin {\n",
              "    0% {\n",
              "      border-color: transparent;\n",
              "      border-bottom-color: var(--fill-color);\n",
              "      border-left-color: var(--fill-color);\n",
              "    }\n",
              "    20% {\n",
              "      border-color: transparent;\n",
              "      border-left-color: var(--fill-color);\n",
              "      border-top-color: var(--fill-color);\n",
              "    }\n",
              "    30% {\n",
              "      border-color: transparent;\n",
              "      border-left-color: var(--fill-color);\n",
              "      border-top-color: var(--fill-color);\n",
              "      border-right-color: var(--fill-color);\n",
              "    }\n",
              "    40% {\n",
              "      border-color: transparent;\n",
              "      border-right-color: var(--fill-color);\n",
              "      border-top-color: var(--fill-color);\n",
              "    }\n",
              "    60% {\n",
              "      border-color: transparent;\n",
              "      border-right-color: var(--fill-color);\n",
              "    }\n",
              "    80% {\n",
              "      border-color: transparent;\n",
              "      border-right-color: var(--fill-color);\n",
              "      border-bottom-color: var(--fill-color);\n",
              "    }\n",
              "    90% {\n",
              "      border-color: transparent;\n",
              "      border-bottom-color: var(--fill-color);\n",
              "    }\n",
              "  }\n",
              "</style>\n",
              "\n",
              "  <script>\n",
              "    async function quickchart(key) {\n",
              "      const quickchartButtonEl =\n",
              "        document.querySelector('#' + key + ' button');\n",
              "      quickchartButtonEl.disabled = true;  // To prevent multiple clicks.\n",
              "      quickchartButtonEl.classList.add('colab-df-spinner');\n",
              "      try {\n",
              "        const charts = await google.colab.kernel.invokeFunction(\n",
              "            'suggestCharts', [key], {});\n",
              "      } catch (error) {\n",
              "        console.error('Error during call to suggestCharts:', error);\n",
              "      }\n",
              "      quickchartButtonEl.classList.remove('colab-df-spinner');\n",
              "      quickchartButtonEl.classList.add('colab-df-quickchart-complete');\n",
              "    }\n",
              "    (() => {\n",
              "      let quickchartButtonEl =\n",
              "        document.querySelector('#df-5d0855c1-3ffd-43b2-aa88-d6f8a966e9fe button');\n",
              "      quickchartButtonEl.style.display =\n",
              "        google.colab.kernel.accessAllowed ? 'block' : 'none';\n",
              "    })();\n",
              "  </script>\n",
              "</div>\n",
              "\n",
              "    </div>\n",
              "  </div>\n"
            ],
            "application/vnd.google.colaboratory.intrinsic+json": {
              "type": "dataframe",
              "variable_name": "df"
            }
          },
          "metadata": {},
          "execution_count": 5
        }
      ]
    },
    {
      "cell_type": "code",
      "source": [
        "df.shape"
      ],
      "metadata": {
        "colab": {
          "base_uri": "https://localhost:8080/"
        },
        "id": "Zlq8zgVNlHet",
        "outputId": "df364285-4b16-43b7-86d8-66527503263f"
      },
      "execution_count": null,
      "outputs": [
        {
          "output_type": "execute_result",
          "data": {
            "text/plain": [
              "(39717, 111)"
            ]
          },
          "metadata": {},
          "execution_count": 6
        }
      ]
    },
    {
      "cell_type": "code",
      "source": [
        "df.info()"
      ],
      "metadata": {
        "colab": {
          "base_uri": "https://localhost:8080/"
        },
        "id": "sCWi85hVlIMd",
        "outputId": "847451e4-c962-483c-83d3-cac44a676631"
      },
      "execution_count": null,
      "outputs": [
        {
          "output_type": "stream",
          "name": "stdout",
          "text": [
            "<class 'pandas.core.frame.DataFrame'>\n",
            "RangeIndex: 39717 entries, 0 to 39716\n",
            "Columns: 111 entries, id to total_il_high_credit_limit\n",
            "dtypes: float64(74), int64(13), object(24)\n",
            "memory usage: 33.6+ MB\n"
          ]
        }
      ]
    },
    {
      "cell_type": "code",
      "source": [
        "df.isna().sum()"
      ],
      "metadata": {
        "colab": {
          "base_uri": "https://localhost:8080/"
        },
        "id": "iBt4WXOplKLX",
        "outputId": "35ab53e4-1cbe-4736-fb0f-d1f8857a4c18"
      },
      "execution_count": null,
      "outputs": [
        {
          "output_type": "execute_result",
          "data": {
            "text/plain": [
              "id                                0\n",
              "member_id                         0\n",
              "loan_amnt                         0\n",
              "funded_amnt                       0\n",
              "funded_amnt_inv                   0\n",
              "                              ...  \n",
              "tax_liens                        39\n",
              "tot_hi_cred_lim               39717\n",
              "total_bal_ex_mort             39717\n",
              "total_bc_limit                39717\n",
              "total_il_high_credit_limit    39717\n",
              "Length: 111, dtype: int64"
            ]
          },
          "metadata": {},
          "execution_count": 8
        }
      ]
    },
    {
      "cell_type": "code",
      "source": [
        "df = df.loc[:, df.apply(lambda column: column.nunique() > 1)]\n",
        "df.dropna(axis=1, thresh=0.8 * df.shape[0], inplace=True)\n",
        "df.drop(columns=df.columns[df.nunique() / len(df) * 100 > 60], inplace=True)\n",
        "df.info()"
      ],
      "metadata": {
        "colab": {
          "base_uri": "https://localhost:8080/"
        },
        "id": "lObpLHTJlULU",
        "outputId": "18736053-2e34-4664-ae1d-9c7b28920463"
      },
      "execution_count": null,
      "outputs": [
        {
          "output_type": "stream",
          "name": "stdout",
          "text": [
            "<class 'pandas.core.frame.DataFrame'>\n",
            "RangeIndex: 39717 entries, 0 to 39716\n",
            "Data columns (total 36 columns):\n",
            " #   Column                   Non-Null Count  Dtype  \n",
            "---  ------                   --------------  -----  \n",
            " 0   loan_amnt                39717 non-null  int64  \n",
            " 1   funded_amnt              39717 non-null  int64  \n",
            " 2   funded_amnt_inv          39717 non-null  float64\n",
            " 3   term                     39717 non-null  object \n",
            " 4   int_rate                 39717 non-null  object \n",
            " 5   installment              39717 non-null  float64\n",
            " 6   grade                    39717 non-null  object \n",
            " 7   sub_grade                39717 non-null  object \n",
            " 8   emp_length               38642 non-null  object \n",
            " 9   home_ownership           39717 non-null  object \n",
            " 10  annual_inc               39717 non-null  float64\n",
            " 11  verification_status      39717 non-null  object \n",
            " 12  issue_d                  39717 non-null  object \n",
            " 13  loan_status              39717 non-null  object \n",
            " 14  purpose                  39717 non-null  object \n",
            " 15  title                    39706 non-null  object \n",
            " 16  zip_code                 39717 non-null  object \n",
            " 17  addr_state               39717 non-null  object \n",
            " 18  dti                      39717 non-null  float64\n",
            " 19  delinq_2yrs              39717 non-null  int64  \n",
            " 20  earliest_cr_line         39717 non-null  object \n",
            " 21  inq_last_6mths           39717 non-null  int64  \n",
            " 22  open_acc                 39717 non-null  int64  \n",
            " 23  pub_rec                  39717 non-null  int64  \n",
            " 24  revol_bal                39717 non-null  int64  \n",
            " 25  revol_util               39667 non-null  object \n",
            " 26  total_acc                39717 non-null  int64  \n",
            " 27  out_prncp                39717 non-null  float64\n",
            " 28  out_prncp_inv            39717 non-null  float64\n",
            " 29  total_rec_prncp          39717 non-null  float64\n",
            " 30  total_rec_late_fee       39717 non-null  float64\n",
            " 31  recoveries               39717 non-null  float64\n",
            " 32  collection_recovery_fee  39717 non-null  float64\n",
            " 33  last_pymnt_d             39646 non-null  object \n",
            " 34  last_credit_pull_d       39715 non-null  object \n",
            " 35  pub_rec_bankruptcies     39020 non-null  float64\n",
            "dtypes: float64(11), int64(8), object(17)\n",
            "memory usage: 10.9+ MB\n"
          ]
        }
      ]
    },
    {
      "cell_type": "code",
      "source": [
        "df.isna().sum()"
      ],
      "metadata": {
        "colab": {
          "base_uri": "https://localhost:8080/"
        },
        "id": "HH9aLIVxlXuC",
        "outputId": "fe00acd2-f5e4-47e9-eb0f-0fdc33f025e2"
      },
      "execution_count": null,
      "outputs": [
        {
          "output_type": "execute_result",
          "data": {
            "text/plain": [
              "loan_amnt                     0\n",
              "funded_amnt                   0\n",
              "funded_amnt_inv               0\n",
              "term                          0\n",
              "int_rate                      0\n",
              "installment                   0\n",
              "grade                         0\n",
              "sub_grade                     0\n",
              "emp_length                 1075\n",
              "home_ownership                0\n",
              "annual_inc                    0\n",
              "verification_status           0\n",
              "issue_d                       0\n",
              "loan_status                   0\n",
              "purpose                       0\n",
              "title                        11\n",
              "zip_code                      0\n",
              "addr_state                    0\n",
              "dti                           0\n",
              "delinq_2yrs                   0\n",
              "earliest_cr_line              0\n",
              "inq_last_6mths                0\n",
              "open_acc                      0\n",
              "pub_rec                       0\n",
              "revol_bal                     0\n",
              "revol_util                   50\n",
              "total_acc                     0\n",
              "out_prncp                     0\n",
              "out_prncp_inv                 0\n",
              "total_rec_prncp               0\n",
              "total_rec_late_fee            0\n",
              "recoveries                    0\n",
              "collection_recovery_fee       0\n",
              "last_pymnt_d                 71\n",
              "last_credit_pull_d            2\n",
              "pub_rec_bankruptcies        697\n",
              "dtype: int64"
            ]
          },
          "metadata": {},
          "execution_count": 10
        }
      ]
    },
    {
      "cell_type": "code",
      "source": [
        "cols_to_remove = [\"issue_d\",\"last_credit_pull_d\",\"last_pymnt_d\",\"pub_rec_bankruptcies\",\"earliest_cr_line\",\"addr_state\",\"sub_grade\",\"zip_code\",'title']\n",
        "df.drop(labels= cols_to_remove,axis=1,inplace=True)\n"
      ],
      "metadata": {
        "id": "PSMjclKKnGty"
      },
      "execution_count": null,
      "outputs": []
    },
    {
      "cell_type": "code",
      "source": [
        "df['revol_util']=df['revol_util'].str.rstrip('%')\n",
        "df['revol_util'].fillna(0, inplace=True)\n",
        "df['revol_util'] = pd.to_numeric(df['revol_util'], errors='coerce')"
      ],
      "metadata": {
        "id": "JllqV9ro662B"
      },
      "execution_count": null,
      "outputs": []
    },
    {
      "cell_type": "code",
      "source": [
        "df.isna().sum()"
      ],
      "metadata": {
        "colab": {
          "base_uri": "https://localhost:8080/"
        },
        "id": "MkZqqbxNprXj",
        "outputId": "a1fc21a6-0d8f-4d7d-e131-0f8b86c94077"
      },
      "execution_count": null,
      "outputs": [
        {
          "output_type": "execute_result",
          "data": {
            "text/plain": [
              "loan_amnt                     0\n",
              "funded_amnt                   0\n",
              "funded_amnt_inv               0\n",
              "term                          0\n",
              "int_rate                      0\n",
              "installment                   0\n",
              "grade                         0\n",
              "emp_length                 1075\n",
              "home_ownership                0\n",
              "annual_inc                    0\n",
              "verification_status           0\n",
              "loan_status                   0\n",
              "purpose                       0\n",
              "dti                           0\n",
              "delinq_2yrs                   0\n",
              "inq_last_6mths                0\n",
              "open_acc                      0\n",
              "pub_rec                       0\n",
              "revol_bal                     0\n",
              "revol_util                    0\n",
              "total_acc                     0\n",
              "out_prncp                     0\n",
              "out_prncp_inv                 0\n",
              "total_rec_prncp               0\n",
              "total_rec_late_fee            0\n",
              "recoveries                    0\n",
              "collection_recovery_fee       0\n",
              "dtype: int64"
            ]
          },
          "metadata": {},
          "execution_count": 13
        }
      ]
    },
    {
      "cell_type": "code",
      "source": [
        "def map_emp_length(emp_length):\n",
        "    if emp_length in ['< 1 year', '1 year', '2 years']:\n",
        "        return 1\n",
        "    elif emp_length in ['3 years', '4 years', '5 years']:\n",
        "        return 2\n",
        "    elif emp_length in ['6 years', '7 years', '8 years', '9 years', '10 years']:\n",
        "        return 3\n",
        "    elif emp_length == '10+ years':\n",
        "        return 4\n",
        "    else:\n",
        "        return None\n",
        "\n",
        "df['emp_length'] = df['emp_length'].apply(map_emp_length)\n",
        "print(df['emp_length'].value_counts())"
      ],
      "metadata": {
        "colab": {
          "base_uri": "https://localhost:8080/"
        },
        "id": "OW3UmoS6n03a",
        "outputId": "7c23f5a4-0d96-43b0-99b6-2dec19399aea"
      },
      "execution_count": null,
      "outputs": [
        {
          "output_type": "stream",
          "name": "stdout",
          "text": [
            "emp_length\n",
            "1.0    12211\n",
            "2.0    10813\n",
            "4.0     8879\n",
            "3.0     6739\n",
            "Name: count, dtype: int64\n"
          ]
        }
      ]
    },
    {
      "cell_type": "code",
      "source": [
        "df['emp_length'].fillna(0, inplace=True)\n",
        "df['emp_length'].value_counts()"
      ],
      "metadata": {
        "colab": {
          "base_uri": "https://localhost:8080/"
        },
        "id": "ix5a7ww97gIg",
        "outputId": "46d82e3c-82a5-49e7-a186-855353faff92"
      },
      "execution_count": null,
      "outputs": [
        {
          "output_type": "execute_result",
          "data": {
            "text/plain": [
              "emp_length\n",
              "1.0    12211\n",
              "2.0    10813\n",
              "4.0     8879\n",
              "3.0     6739\n",
              "0.0     1075\n",
              "Name: count, dtype: int64"
            ]
          },
          "metadata": {},
          "execution_count": 15
        }
      ]
    },
    {
      "cell_type": "code",
      "source": [
        "df['int_rate']=df['int_rate'].str.rstrip('%')"
      ],
      "metadata": {
        "id": "bbrgKPj-7WGX"
      },
      "execution_count": null,
      "outputs": []
    },
    {
      "cell_type": "code",
      "source": [
        "numerical_columns = df.select_dtypes(include=['float64', 'int64']).columns\n",
        "scaler = StandardScaler()\n",
        "df[numerical_columns] = scaler.fit_transform(df[numerical_columns])"
      ],
      "metadata": {
        "id": "gutEKEEPA_jM"
      },
      "execution_count": null,
      "outputs": []
    },
    {
      "cell_type": "code",
      "source": [
        "label_encoder = LabelEncoder()\n",
        "df['term'] = label_encoder.fit_transform(df['term'])\n",
        "df['grade'] = label_encoder.fit_transform(df['grade'])\n",
        "df['home_ownership'] = label_encoder.fit_transform(df['home_ownership'])\n",
        "df['verification_status'] = label_encoder.fit_transform(df['verification_status'])\n",
        "df['purpose'] = label_encoder.fit_transform(df['purpose'])\n",
        "df['loan_status'] = label_encoder.fit_transform(df['loan_status'])"
      ],
      "metadata": {
        "id": "VaOGZ_nh77VD"
      },
      "execution_count": null,
      "outputs": []
    },
    {
      "cell_type": "code",
      "source": [
        "new_var = df[df['loan_status'] != 1]\n",
        "df = new_var"
      ],
      "metadata": {
        "id": "O5Fv63L5uCfG"
      },
      "execution_count": null,
      "outputs": []
    },
    {
      "cell_type": "code",
      "source": [
        "X_train, X_test, y_train, y_test = train_test_split(df.drop(columns=['loan_status']),df['loan_status'],test_size = 0.2)"
      ],
      "metadata": {
        "id": "goh4iQvVbgqh"
      },
      "execution_count": null,
      "outputs": []
    },
    {
      "cell_type": "code",
      "source": [
        "y_train.value_counts()"
      ],
      "metadata": {
        "colab": {
          "base_uri": "https://localhost:8080/"
        },
        "id": "sYeSz1OMbhUw",
        "outputId": "6bdeafba-93ab-4ba9-f933-51042ab0edb8"
      },
      "execution_count": null,
      "outputs": [
        {
          "output_type": "execute_result",
          "data": {
            "text/plain": [
              "loan_status\n",
              "2    26358\n",
              "0     4503\n",
              "Name: count, dtype: int64"
            ]
          },
          "metadata": {},
          "execution_count": 21
        }
      ]
    },
    {
      "cell_type": "code",
      "source": [
        "smote = SMOTE(random_state=42)\n",
        "X_train_resampled, y_train_resampled = smote.fit_resample(X_train, y_train)"
      ],
      "metadata": {
        "id": "RTYYvAZ44rJG"
      },
      "execution_count": null,
      "outputs": []
    },
    {
      "cell_type": "code",
      "source": [
        "y_train_resampled.value_counts()"
      ],
      "metadata": {
        "colab": {
          "base_uri": "https://localhost:8080/"
        },
        "id": "Pogs7LfN5yRg",
        "outputId": "a1aef3e8-a07c-4130-b8a0-c33d736ebf89"
      },
      "execution_count": null,
      "outputs": [
        {
          "output_type": "execute_result",
          "data": {
            "text/plain": [
              "loan_status\n",
              "2    26358\n",
              "0    26358\n",
              "Name: count, dtype: int64"
            ]
          },
          "metadata": {},
          "execution_count": 23
        }
      ]
    },
    {
      "cell_type": "code",
      "source": [
        "rf_model = RandomForestClassifier(random_state=42)\n",
        "rf_model.fit(X_train_resampled, y_train_resampled)\n",
        "y_pred_rf = rf_model.predict(X_test)\n",
        "\n",
        "cm = confusion_matrix(y_test, y_pred_rf)\n",
        "disp = ConfusionMatrixDisplay(confusion_matrix=cm)\n",
        "disp.plot(cmap=plt.cm.Blues)\n",
        "plt.show()\n",
        "print(f\"Random Forest Accuracy: {accuracy_score(y_test, y_pred_rf):.2f}\")"
      ],
      "metadata": {
        "colab": {
          "base_uri": "https://localhost:8080/",
          "height": 466
        },
        "id": "eh3-Xm485zbd",
        "outputId": "50bc3f10-b055-4e6a-cb13-2eeeb27be738"
      },
      "execution_count": null,
      "outputs": [
        {
          "output_type": "display_data",
          "data": {
            "text/plain": [
              "<Figure size 640x480 with 2 Axes>"
            ],
            "image/png": "[encoded data removed]"
          },
          "metadata": {}
        },
        {
          "output_type": "stream",
          "name": "stdout",
          "text": [
            "Random Forest Accuracy: 1.00\n"
          ]
        }
      ]
    },
    {
      "cell_type": "code",
      "source": [
        "explainer = shap.TreeExplainer(rf_model)\n",
        "shap_values = explainer.shap_values(X_test)\n",
        "\n",
        "shap.summary_plot(shap_values, X_test)\n"
      ],
      "metadata": {
        "id": "KblcWkV6C0NA"
      },
      "execution_count": null,
      "outputs": []
    },
    {
      "cell_type": "code",
      "source": [
        "from sklearn.linear_model import LogisticRegression\n",
        "from sklearn.feature_selection import RFE\n",
        "from sklearn.metrics import confusion_matrix, ConfusionMatrixDisplay, accuracy_score\n",
        "import matplotlib.pyplot as plt\n",
        "\n",
        "# Logistic Regression with RFE\n",
        "lr_model = LogisticRegression(random_state=42)\n",
        "rfe_lr = RFE(estimator=lr_model, n_features_to_select=10)\n",
        "rfe_lr.fit(X_train_resampled, y_train_resampled)\n",
        "y_pred_lr = rfe_lr.predict(X_test)\n",
        "\n",
        "# Confusion Matrix and Accuracy\n",
        "cm_lr = confusion_matrix(y_test, y_pred_lr)\n",
        "disp_lr = ConfusionMatrixDisplay(confusion_matrix=cm_lr)\n",
        "disp_lr.plot(cmap=plt.cm.Blues)\n",
        "plt.title(\"Logistic Regression Confusion Matrix\")\n",
        "plt.show()\n",
        "print(f\"Logistic Regression Accuracy: {accuracy_score(y_test, y_pred_lr):.2f}\")\n",
        "\n",
        "# Top 10 Features\n",
        "top_features_lr = rfe_lr.support_\n",
        "print(\"Top 10 Features for Logistic Regression:\", X_train_resampled.columns[top_features_lr])"
      ],
      "metadata": {
        "colab": {
          "base_uri": "https://localhost:8080/",
          "height": 1000
        },
        "id": "w8ZT9rUH9bav",
        "outputId": "8eb6a9af-25f8-4e1e-9ff8-8de50fc35028"
      },
      "execution_count": null,
      "outputs": [
        {
          "output_type": "stream",
          "name": "stderr",
          "text": [
            "/usr/local/lib/python3.10/dist-packages/sklearn/linear_model/_logistic.py:458: ConvergenceWarning: lbfgs failed to converge (status=1):\n",
            "STOP: TOTAL NO. of ITERATIONS REACHED LIMIT.\n",
            "\n",
            "Increase the number of iterations (max_iter) or scale the data as shown in:\n",
            "    https://scikit-learn.org/stable/modules/preprocessing.html\n",
            "Please also refer to the documentation for alternative solver options:\n",
            "    https://scikit-learn.org/stable/modules/linear_model.html#logistic-regression\n",
            "  n_iter_i = _check_optimize_result(\n",
            "/usr/local/lib/python3.10/dist-packages/sklearn/linear_model/_logistic.py:458: ConvergenceWarning: lbfgs failed to converge (status=1):\n",
            "STOP: TOTAL NO. of ITERATIONS REACHED LIMIT.\n",
            "\n",
            "Increase the number of iterations (max_iter) or scale the data as shown in:\n",
            "    https://scikit-learn.org/stable/modules/preprocessing.html\n",
            "Please also refer to the documentation for alternative solver options:\n",
            "    https://scikit-learn.org/stable/modules/linear_model.html#logistic-regression\n",
            "  n_iter_i = _check_optimize_result(\n",
            "/usr/local/lib/python3.10/dist-packages/sklearn/linear_model/_logistic.py:458: ConvergenceWarning: lbfgs failed to converge (status=1):\n",
            "STOP: TOTAL NO. of ITERATIONS REACHED LIMIT.\n",
            "\n",
            "Increase the number of iterations (max_iter) or scale the data as shown in:\n",
            "    https://scikit-learn.org/stable/modules/preprocessing.html\n",
            "Please also refer to the documentation for alternative solver options:\n",
            "    https://scikit-learn.org/stable/modules/linear_model.html#logistic-regression\n",
            "  n_iter_i = _check_optimize_result(\n",
            "/usr/local/lib/python3.10/dist-packages/sklearn/linear_model/_logistic.py:458: ConvergenceWarning: lbfgs failed to converge (status=1):\n",
            "STOP: TOTAL NO. of ITERATIONS REACHED LIMIT.\n",
            "\n",
            "Increase the number of iterations (max_iter) or scale the data as shown in:\n",
            "    https://scikit-learn.org/stable/modules/preprocessing.html\n",
            "Please also refer to the documentation for alternative solver options:\n",
            "    https://scikit-learn.org/stable/modules/linear_model.html#logistic-regression\n",
            "  n_iter_i = _check_optimize_result(\n",
            "/usr/local/lib/python3.10/dist-packages/sklearn/linear_model/_logistic.py:458: ConvergenceWarning: lbfgs failed to converge (status=1):\n",
            "STOP: TOTAL NO. of ITERATIONS REACHED LIMIT.\n",
            "\n",
            "Increase the number of iterations (max_iter) or scale the data as shown in:\n",
            "    https://scikit-learn.org/stable/modules/preprocessing.html\n",
            "Please also refer to the documentation for alternative solver options:\n",
            "    https://scikit-learn.org/stable/modules/linear_model.html#logistic-regression\n",
            "  n_iter_i = _check_optimize_result(\n",
            "/usr/local/lib/python3.10/dist-packages/sklearn/linear_model/_logistic.py:458: ConvergenceWarning: lbfgs failed to converge (status=1):\n",
            "STOP: TOTAL NO. of ITERATIONS REACHED LIMIT.\n",
            "\n",
            "Increase the number of iterations (max_iter) or scale the data as shown in:\n",
            "    https://scikit-learn.org/stable/modules/preprocessing.html\n",
            "Please also refer to the documentation for alternative solver options:\n",
            "    https://scikit-learn.org/stable/modules/linear_model.html#logistic-regression\n",
            "  n_iter_i = _check_optimize_result(\n",
            "/usr/local/lib/python3.10/dist-packages/sklearn/linear_model/_logistic.py:458: ConvergenceWarning: lbfgs failed to converge (status=1):\n",
            "STOP: TOTAL NO. of ITERATIONS REACHED LIMIT.\n",
            "\n",
            "Increase the number of iterations (max_iter) or scale the data as shown in:\n",
            "    https://scikit-learn.org/stable/modules/preprocessing.html\n",
            "Please also refer to the documentation for alternative solver options:\n",
            "    https://scikit-learn.org/stable/modules/linear_model.html#logistic-regression\n",
            "  n_iter_i = _check_optimize_result(\n",
            "/usr/local/lib/python3.10/dist-packages/sklearn/linear_model/_logistic.py:458: ConvergenceWarning: lbfgs failed to converge (status=1):\n",
            "STOP: TOTAL NO. of ITERATIONS REACHED LIMIT.\n",
            "\n",
            "Increase the number of iterations (max_iter) or scale the data as shown in:\n",
            "    https://scikit-learn.org/stable/modules/preprocessing.html\n",
            "Please also refer to the documentation for alternative solver options:\n",
            "    https://scikit-learn.org/stable/modules/linear_model.html#logistic-regression\n",
            "  n_iter_i = _check_optimize_result(\n",
            "/usr/local/lib/python3.10/dist-packages/sklearn/linear_model/_logistic.py:458: ConvergenceWarning: lbfgs failed to converge (status=1):\n",
            "STOP: TOTAL NO. of ITERATIONS REACHED LIMIT.\n",
            "\n",
            "Increase the number of iterations (max_iter) or scale the data as shown in:\n",
            "    https://scikit-learn.org/stable/modules/preprocessing.html\n",
            "Please also refer to the documentation for alternative solver options:\n",
            "    https://scikit-learn.org/stable/modules/linear_model.html#logistic-regression\n",
            "  n_iter_i = _check_optimize_result(\n",
            "/usr/local/lib/python3.10/dist-packages/sklearn/linear_model/_logistic.py:458: ConvergenceWarning: lbfgs failed to converge (status=1):\n",
            "STOP: TOTAL NO. of ITERATIONS REACHED LIMIT.\n",
            "\n",
            "Increase the number of iterations (max_iter) or scale the data as shown in:\n",
            "    https://scikit-learn.org/stable/modules/preprocessing.html\n",
            "Please also refer to the documentation for alternative solver options:\n",
            "    https://scikit-learn.org/stable/modules/linear_model.html#logistic-regression\n",
            "  n_iter_i = _check_optimize_result(\n",
            "/usr/local/lib/python3.10/dist-packages/sklearn/linear_model/_logistic.py:458: ConvergenceWarning: lbfgs failed to converge (status=1):\n",
            "STOP: TOTAL NO. of ITERATIONS REACHED LIMIT.\n",
            "\n",
            "Increase the number of iterations (max_iter) or scale the data as shown in:\n",
            "    https://scikit-learn.org/stable/modules/preprocessing.html\n",
            "Please also refer to the documentation for alternative solver options:\n",
            "    https://scikit-learn.org/stable/modules/linear_model.html#logistic-regression\n",
            "  n_iter_i = _check_optimize_result(\n",
            "/usr/local/lib/python3.10/dist-packages/sklearn/linear_model/_logistic.py:458: ConvergenceWarning: lbfgs failed to converge (status=1):\n",
            "STOP: TOTAL NO. of ITERATIONS REACHED LIMIT.\n",
            "\n",
            "Increase the number of iterations (max_iter) or scale the data as shown in:\n",
            "    https://scikit-learn.org/stable/modules/preprocessing.html\n",
            "Please also refer to the documentation for alternative solver options:\n",
            "    https://scikit-learn.org/stable/modules/linear_model.html#logistic-regression\n",
            "  n_iter_i = _check_optimize_result(\n",
            "/usr/local/lib/python3.10/dist-packages/sklearn/linear_model/_logistic.py:458: ConvergenceWarning: lbfgs failed to converge (status=1):\n",
            "STOP: TOTAL NO. of ITERATIONS REACHED LIMIT.\n",
            "\n",
            "Increase the number of iterations (max_iter) or scale the data as shown in:\n",
            "    https://scikit-learn.org/stable/modules/preprocessing.html\n",
            "Please also refer to the documentation for alternative solver options:\n",
            "    https://scikit-learn.org/stable/modules/linear_model.html#logistic-regression\n",
            "  n_iter_i = _check_optimize_result(\n"
          ]
        },
        {
          "output_type": "display_data",
          "data": {
            "text/plain": [
              "<Figure size 640x480 with 2 Axes>"
            ],
            "image/png": "[encoded data removed]"
          },
          "metadata": {}
        },
        {
          "output_type": "stream",
          "name": "stdout",
          "text": [
            "Logistic Regression Accuracy: 0.99\n",
            "Top 10 Features for Logistic Regression: Index(['loan_amnt', 'funded_amnt', 'funded_amnt_inv', 'term', 'installment',\n",
            "       'annual_inc', 'verification_status', 'total_rec_prncp', 'recoveries',\n",
            "       'collection_recovery_fee'],\n",
            "      dtype='object')\n"
          ]
        }
      ]
    },
    {
      "cell_type": "code",
      "source": [
        "from sklearn.neighbors import KNeighborsClassifier\n",
        "from sklearn.feature_selection import SelectKBest, f_classif\n",
        "\n",
        "# K-Nearest Neighbors with SelectKBest\n",
        "skb_knn = SelectKBest(score_func=f_classif, k=10)\n",
        "X_train_knn = skb_knn.fit_transform(X_train_resampled, y_train_resampled)\n",
        "X_test_knn = skb_knn.transform(X_test)\n",
        "\n",
        "knn_model = KNeighborsClassifier()\n",
        "knn_model.fit(X_train_knn, y_train_resampled)\n",
        "y_pred_knn = knn_model.predict(X_test_knn)\n",
        "\n",
        "# Confusion Matrix and Accuracy\n",
        "cm_knn = confusion_matrix(y_test, y_pred_knn)\n",
        "disp_knn = ConfusionMatrixDisplay(confusion_matrix=cm_knn)\n",
        "disp_knn.plot(cmap=plt.cm.Blues)\n",
        "plt.title(\"K-Nearest Neighbors Confusion Matrix\")\n",
        "plt.show()\n",
        "print(f\"K-Nearest Neighbors Accuracy: {accuracy_score(y_test, y_pred_knn):.2f}\")\n",
        "\n",
        "# Top 10 Features\n",
        "top_features_knn = skb_knn.get_support()\n",
        "print(\"Top 10 Features for K-Nearest Neighbors:\", X_train_resampled.columns[top_features_knn])\n"
      ],
      "metadata": {
        "id": "GKbpREM2J-PB",
        "colab": {
          "base_uri": "https://localhost:8080/",
          "height": 559
        },
        "outputId": "16267f62-7214-42fc-a115-21d605c8e8bb"
      },
      "execution_count": null,
      "outputs": [
        {
          "output_type": "display_data",
          "data": {
            "text/plain": [
              "<Figure size 640x480 with 2 Axes>"
            ],
            "image/png": "[encoded data removed]"
          },
          "metadata": {}
        },
        {
          "output_type": "stream",
          "name": "stdout",
          "text": [
            "K-Nearest Neighbors Accuracy: 0.88\n",
            "Top 10 Features for K-Nearest Neighbors: Index(['term', 'int_rate', 'grade', 'annual_inc', 'inq_last_6mths',\n",
            "       'revol_util', 'total_rec_prncp', 'total_rec_late_fee', 'recoveries',\n",
            "       'collection_recovery_fee'],\n",
            "      dtype='object')\n"
          ]
        }
      ]
    },
    {
      "cell_type": "code",
      "source": [
        "from sklearn.svm import SVC\n",
        "from sklearn.feature_selection import RFE\n",
        "\n",
        "# Support Vector Machine with RFE\n",
        "svm_model = SVC(kernel=\"linear\", random_state=42)\n",
        "rfe_svm = RFE(estimator=svm_model, n_features_to_select=10)\n",
        "rfe_svm.fit(X_train_resampled, y_train_resampled)\n",
        "y_pred_svm = rfe_svm.predict(X_test)\n",
        "\n",
        "# Confusion Matrix and Accuracy\n",
        "cm_svm = confusion_matrix(y_test, y_pred_svm)\n",
        "disp_svm = ConfusionMatrixDisplay(confusion_matrix=cm_svm)\n",
        "disp_svm.plot(cmap=plt.cm.Blues)\n",
        "plt.title(\"Support Vector Machine Confusion Matrix\")\n",
        "plt.show()\n",
        "print(f\"Support Vector Machine Accuracy: {accuracy_score(y_test, y_pred_svm):.2f}\")\n",
        "\n",
        "# Top 10 Features\n",
        "top_features_svm = rfe_svm.support_\n",
        "print(\"Top 10 Features for Support Vector Machine:\", X_train_resampled.columns[top_features_svm])\n"
      ],
      "metadata": {
        "colab": {
          "base_uri": "https://localhost:8080/",
          "height": 559
        },
        "id": "lKBi-j3Q_yA_",
        "outputId": "37cb9713-8f86-47af-bdce-9a5af7578729"
      },
      "execution_count": null,
      "outputs": [
        {
          "output_type": "display_data",
          "data": {
            "text/plain": [
              "<Figure size 640x480 with 2 Axes>"
            ],
            "image/png": "[encoded data removed]"
          },
          "metadata": {}
        },
        {
          "output_type": "stream",
          "name": "stdout",
          "text": [
            "Support Vector Machine Accuracy: 1.00\n",
            "Top 10 Features for Support Vector Machine: Index(['loan_amnt', 'funded_amnt', 'funded_amnt_inv', 'term', 'installment',\n",
            "       'grade', 'annual_inc', 'total_rec_prncp', 'recoveries',\n",
            "       'collection_recovery_fee'],\n",
            "      dtype='object')\n"
          ]
        }
      ]
    },
    {
      "cell_type": "code",
      "source": [
        "from sklearn.tree import DecisionTreeClassifier\n",
        "from sklearn.feature_selection import RFE\n",
        "\n",
        "# Decision Tree with RFE\n",
        "dt_model = DecisionTreeClassifier(random_state=42)\n",
        "rfe_dt = RFE(estimator=dt_model, n_features_to_select=10)\n",
        "rfe_dt.fit(X_train_resampled, y_train_resampled)\n",
        "y_pred_dt = rfe_dt.predict(X_test)\n",
        "\n",
        "# Confusion Matrix and Accuracy\n",
        "cm_dt = confusion_matrix(y_test, y_pred_dt)\n",
        "disp_dt = ConfusionMatrixDisplay(confusion_matrix=cm_dt)\n",
        "disp_dt.plot(cmap=plt.cm.Blues)\n",
        "plt.title(\"Decision Tree Confusion Matrix\")\n",
        "plt.show()\n",
        "print(f\"Decision Tree Accuracy: {accuracy_score(y_test, y_pred_dt):.2f}\")\n",
        "\n",
        "# Top 10 Features\n",
        "top_features_dt = rfe_dt.support_\n",
        "print(\"Top 10 Features for Decision Tree:\", X_train_resampled.columns[top_features_dt])\n"
      ],
      "metadata": {
        "colab": {
          "base_uri": "https://localhost:8080/",
          "height": 559
        },
        "id": "lK-sJ80YBaFU",
        "outputId": "4871e096-1b5d-4b4e-c320-2b8f97fd0ded"
      },
      "execution_count": null,
      "outputs": [
        {
          "output_type": "display_data",
          "data": {
            "text/plain": [
              "<Figure size 640x480 with 2 Axes>"
            ],
            "image/png": "[encoded data removed]"
          },
          "metadata": {}
        },
        {
          "output_type": "stream",
          "name": "stdout",
          "text": [
            "Decision Tree Accuracy: 1.00\n",
            "Top 10 Features for Decision Tree: Index(['loan_amnt', 'funded_amnt', 'funded_amnt_inv', 'installment',\n",
            "       'home_ownership', 'annual_inc', 'dti', 'total_rec_prncp',\n",
            "       'total_rec_late_fee', 'recoveries'],\n",
            "      dtype='object')\n"
          ]
        }
      ]
    },
    {
      "cell_type": "code",
      "source": [
        "from sklearn.ensemble import GradientBoostingClassifier\n",
        "from sklearn.feature_selection import RFE\n",
        "\n",
        "# Gradient Boosting with RFE\n",
        "gb_model = GradientBoostingClassifier(random_state=42)\n",
        "rfe_gb = RFE(estimator=gb_model, n_features_to_select=10)\n",
        "rfe_gb.fit(X_train_resampled, y_train_resampled)\n",
        "y_pred_gb = rfe_gb.predict(X_test)\n",
        "\n",
        "# Confusion Matrix and Accuracy\n",
        "cm_gb = confusion_matrix(y_test, y_pred_gb)\n",
        "disp_gb = ConfusionMatrixDisplay(confusion_matrix=cm_gb)\n",
        "disp_gb.plot(cmap=plt.cm.Blues)\n",
        "plt.title(\"Gradient Boosting Confusion Matrix\")\n",
        "plt.show()\n",
        "print(f\"Gradient Boosting Accuracy: {accuracy_score(y_test, y_pred_gb):.2f}\")\n",
        "\n",
        "# Top 10 Features\n",
        "top_features_gb = rfe_gb.support_\n",
        "print(\"Top 10 Features for Gradient Boosting:\", X_train_resampled.columns[top_features_gb])\n"
      ],
      "metadata": {
        "colab": {
          "base_uri": "https://localhost:8080/",
          "height": 559
        },
        "id": "Rpe_HcrJBaIV",
        "outputId": "0b042eac-82b1-4742-b7d3-edbbb823b5ef"
      },
      "execution_count": null,
      "outputs": [
        {
          "output_type": "display_data",
          "data": {
            "text/plain": [
              "<Figure size 640x480 with 2 Axes>"
            ],
            "image/png": "[encoded data removed]"
          },
          "metadata": {}
        },
        {
          "output_type": "stream",
          "name": "stdout",
          "text": [
            "Gradient Boosting Accuracy: 1.00\n",
            "Top 10 Features for Gradient Boosting: Index(['loan_amnt', 'funded_amnt', 'installment', 'emp_length', 'annual_inc',\n",
            "       'delinq_2yrs', 'pub_rec', 'total_rec_prncp', 'total_rec_late_fee',\n",
            "       'recoveries'],\n",
            "      dtype='object')\n"
          ]
        }
      ]
    },
    {
      "cell_type": "code",
      "source": [
        "from sklearn.naive_bayes import GaussianNB\n",
        "from sklearn.feature_selection import SelectKBest, f_classif\n",
        "\n",
        "# Naive Bayes with SelectKBest\n",
        "skb_nb = SelectKBest(score_func=f_classif, k=10)\n",
        "X_train_nb = skb_nb.fit_transform(X_train_resampled, y_train_resampled)\n",
        "X_test_nb = skb_nb.transform(X_test)\n",
        "\n",
        "nb_model = GaussianNB()\n",
        "nb_model.fit(X_train_nb, y_train_resampled)\n",
        "y_pred_nb = nb_model.predict(X_test_nb)\n",
        "\n",
        "# Confusion Matrix and Accuracy\n",
        "cm_nb = confusion_matrix(y_test, y_pred_nb)\n",
        "disp_nb = ConfusionMatrixDisplay(confusion_matrix=cm_nb)\n",
        "disp_nb.plot(cmap=plt.cm.Blues)\n",
        "plt.title(\"Naive Bayes Confusion Matrix\")\n",
        "plt.show()\n",
        "print(f\"Naive Bayes Accuracy: {accuracy_score(y_test, y_pred_nb):.2f}\")\n",
        "\n",
        "# Top 10 Features\n",
        "top_features_nb = skb_nb.get_support()\n",
        "print(\"Top 10 Features for Naive Bayes:\", X_train_resampled.columns[top_features_nb])\n",
        "\n"
      ],
      "metadata": {
        "colab": {
          "base_uri": "https://localhost:8080/",
          "height": 559
        },
        "id": "7C3ZITtdBaLV",
        "outputId": "8f50e15e-f692-41c7-8d83-ee338a36eb59"
      },
      "execution_count": null,
      "outputs": [
        {
          "output_type": "display_data",
          "data": {
            "text/plain": [
              "<Figure size 640x480 with 2 Axes>"
            ],
            "image/png": "[encoded data removed]"
          },
          "metadata": {}
        },
        {
          "output_type": "stream",
          "name": "stdout",
          "text": [
            "Naive Bayes Accuracy: 0.96\n",
            "Top 10 Features for Naive Bayes: Index(['term', 'int_rate', 'grade', 'annual_inc', 'inq_last_6mths',\n",
            "       'revol_util', 'total_rec_prncp', 'total_rec_late_fee', 'recoveries',\n",
            "       'collection_recovery_fee'],\n",
            "      dtype='object')\n"
          ]
        }
      ]
    },
    {
      "cell_type": "code",
      "source": [],
      "metadata": {
        "id": "vIjNp1MtBaPC"
      },
      "execution_count": null,
      "outputs": []
    }
  ]
}